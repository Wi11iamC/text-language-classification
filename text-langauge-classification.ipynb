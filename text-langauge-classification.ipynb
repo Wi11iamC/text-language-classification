{
 "cells": [
  {
   "attachments": {},
   "cell_type": "markdown",
   "metadata": {},
   "source": [
    "# Amazon Reviews Text Classification Notebook\n",
    "---"
   ]
  },
  {
   "cell_type": "code",
   "execution_count": 1,
   "metadata": {},
   "outputs": [],
   "source": [
    "# import relevant Python libraries\n",
    "import numpy as np\n",
    "import pandas as pd\n",
    "from scipy import stats as sps\n",
    "from matplotlib import pyplot as plt\n",
    "from mpl_toolkits.mplot3d import Axes3D\n",
    "from IPython.display import display, Latex\n",
    "from sklearn import preprocessing\n",
    "import json\n",
    "import random\n",
    "from sklearn.feature_extraction.text import CountVectorizer\n",
    "from sklearn.metrics import confusion_matrix\n",
    "from sklearn.naive_bayes import MultinomialNB\n",
    "from sklearn.neighbors import KNeighborsClassifier\n",
    "from sklearn.model_selection import cross_validate\n",
    "from sklearn.model_selection import cross_val_score\n"
   ]
  },
  {
   "cell_type": "markdown",
   "metadata": {},
   "source": [
    "# **Objectives**"
   ]
  },
  {
   "attachments": {},
   "cell_type": "markdown",
   "metadata": {},
   "source": [
    "**Task for this Dataset:**\n",
    "\n",
    "The task for this dataset will be a classification task. With this dataset we are attempting to create a machine learning model to accurately classify the language of texts from Amazon product reviews: English, German, French, and Spanish.\n",
    "\n",
    "**Type of Machine Learning Problem:**\n",
    "\n",
    "This problem is a supervised machine learning problem because the labels are provided in the dataset (language of data samples: 4 total). The labels are provided in the respective json file name (i.e. English reviews are provided in the json file with “en” in file name).\n",
    "\n",
    "**Motivation:**\n",
    "\n",
    "Increasingly, people are transitioning to online markets, like Amazon, as it becomes easier to place orders and purchase items over the internet. Amazon has been around since 1994 and has since then grown to millions of users around the world and has become a prominent global business. Amazon extended their marketplace to many regions where customers speak different languages. The language of a marketplace does not necessarily always match the language of a review placed by customers. In this project, we are going to try and create a machine learning model to classify the language of each text review: English, Japanese, German, French, Chinese, and Spanish. In essence, we are trying to create a model that can detect the language of texts. Such machine learning model can help break the language barrier between buyers and sellers. I find the concept of Languages and linguistics interesting because they are an integral part of humanity. Languages enable us to share ideas, thoughts and feelings. Every language has its unique rules and syntax, but they allow humans to communicate and express themselves in different ways. Understanding different languages is important for businesses to build connections and grow a network. This project gives us an opportunity to create a machine learning system by using methods learned in class to classify language of texts. \n"
   ]
  },
  {
   "cell_type": "markdown",
   "metadata": {},
   "source": [
    "# **Setup**"
   ]
  },
  {
   "attachments": {},
   "cell_type": "markdown",
   "metadata": {},
   "source": [
    "#### **Folder Structure:**\n",
    "```\n",
    "📂AmazonReviews\n",
    " ┃\n",
    " ┣ 📙text-langauge-classification.ipynb\n",
    " ┃\n",
    " ┣ 📝 dataset_de_test.json\n",
    " ┣ 📝 dataset_en_test.json\n",
    " ┣ 📝 dataset_es_test.json\n",
    " ┣ 📝 dataset_fr_test.json\n",
    " ┃\n",
    " ┣ 📝 dataset_de_train.json\n",
    " ┣ 📝 dataset_en_train.json\n",
    " ┣ 📝 dataset_es_train.json\n",
    " ┗ 📝 dataset_fr_train.json\n",
    " ```\n",
    " #### **Dataset link:**\n",
    " https://s3.console.aws.amazon.com/s3/buckets/amazon-reviews-ml/?region=us-west-2&tab=objects\n",
    " #### **Kernel:**\n",
    " base Python 3.9.12 Conda env"
   ]
  },
  {
   "cell_type": "markdown",
   "metadata": {},
   "source": [
    "# **1. Brief Exploration of Dataset**"
   ]
  },
  {
   "attachments": {},
   "cell_type": "markdown",
   "metadata": {},
   "source": [
    "In this section, we will be carry out a brief exploration of our dataset. We must first note that the training data is given in 4 .json file (see folder structure) for each respective langauges: German (de), English (en), Spanish (es), French (fr), Japanese (ja), and Chinese (zh). In order to start any exploration, we must first parse the json data into our python environment."
   ]
  },
  {
   "cell_type": "code",
   "execution_count": 2,
   "metadata": {},
   "outputs": [
    {
     "data": {
      "text/plain": [
       "<AxesSubplot:ylabel='stars'>"
      ]
     },
     "execution_count": 2,
     "metadata": {},
     "output_type": "execute_result"
    },
    {
     "data": {
      "image/png": "[encoded data removed]",
      "text/plain": [
       "<Figure size 432x288 with 1 Axes>"
      ]
     },
     "metadata": {
      "needs_background": "light"
     },
     "output_type": "display_data"
    },
    {
     "data": {
      "image/png": "[encoded data removed]",
      "text/plain": [
       "<Figure size 432x288 with 1 Axes>"
      ]
     },
     "metadata": {},
     "output_type": "display_data"
    }
   ],
   "source": [
    "en_df = pd.read_json('dataset_en_train.json', lines=True, orient='columns')\n",
    "es_df = pd.read_json('dataset_es_train.json', lines=True, orient='columns')\n",
    "fr_df = pd.read_json('dataset_fr_train.json', lines=True, orient='columns')\n",
    "de_df = pd.read_json('dataset_de_train.json', lines=True, orient='columns')\n",
    "lang_frames = [en_df, es_df, fr_df, de_df]\n",
    "all_reviews_df = pd.concat(lang_frames)\n",
    "all_reviews_df['language'].value_counts().plot(kind=\"bar\", title=\"Reviews Gathered from Each Language\")\n",
    "# Rotate the x-labels by 30 degrees, and keep the text aligned horizontally\n",
    "plt.xticks(rotation=30, horizontalalignment=\"center\")\n",
    "plt.title(\"Reviews Gathered from Each Language\")\n",
    "plt.xlabel(\"Language\")\n",
    "plt.ylabel(\"Number of Reviews\")\n",
    "all_reviews_df.groupby(['language']).sum().plot(kind='pie', y='stars', autopct='%1.0f%%')"
   ]
  },
  {
   "attachments": {},
   "cell_type": "markdown",
   "metadata": {},
   "source": [
    "Note that there are a total of 800,000 reivews with 200,000 reviews from each lanaguage .json file. Based on the dataset, we see that the data is pretty much uniform across all langauges. The pie chart also shows that the dataset is balanced among all six language. Each reviews from each language comprise of approximately 25% of the total reviews. "
   ]
  },
  {
   "attachments": {},
   "cell_type": "markdown",
   "metadata": {},
   "source": [
    "We will also check for null values in the dataset / pandas dataframe."
   ]
  },
  {
   "cell_type": "code",
   "execution_count": 3,
   "metadata": {},
   "outputs": [
    {
     "data": {
      "text/plain": [
       "review_id           0\n",
       "product_id          0\n",
       "reviewer_id         0\n",
       "stars               0\n",
       "review_body         0\n",
       "review_title        0\n",
       "language            0\n",
       "product_category    0\n",
       "dtype: int64"
      ]
     },
     "execution_count": 3,
     "metadata": {},
     "output_type": "execute_result"
    }
   ],
   "source": [
    "all_reviews_df.isnull().sum()"
   ]
  },
  {
   "attachments": {},
   "cell_type": "markdown",
   "metadata": {},
   "source": [
    "We see that there are no null values present in this dataset."
   ]
  },
  {
   "cell_type": "markdown",
   "metadata": {},
   "source": [
    "# **2. Pre-processing**"
   ]
  },
  {
   "attachments": {},
   "cell_type": "markdown",
   "metadata": {},
   "source": [
    "On top of parsing the json data into pandas dataframe, we will be employing sampling method to the large dataset. The reason for sampling is because we do not have enough computing or processing power to analyze all of the 800,000 samples in the dataset. We will be randomly sampling 500 reviews from each language json data. It was found that 500 reviews is the threshold before our computing resources and kernel crashes."
   ]
  },
  {
   "cell_type": "code",
   "execution_count": 4,
   "metadata": {},
   "outputs": [
    {
     "name": "stdout",
     "output_type": "stream",
     "text": [
      "English Reviews:  500\n",
      "Spanish Reviews:  500\n",
      "French Reviews:  500\n",
      "German Reviews:   500\n",
      "Total Reviews:  2000\n"
     ]
    }
   ],
   "source": [
    "en_df = pd.read_json('dataset_en_train.json', lines=True, orient='columns').sample(500)\n",
    "es_df = pd.read_json('dataset_es_train.json', lines=True, orient='columns').sample(500)\n",
    "fr_df = pd.read_json('dataset_fr_train.json', lines=True, orient='columns').sample(500)\n",
    "de_df = pd.read_json('dataset_de_train.json', lines=True, orient='columns').sample(500)\n",
    "lang_frames = [en_df, es_df, fr_df, de_df]\n",
    "all_reviews_df = pd.concat(lang_frames)\n",
    "print('English Reviews: ', len(en_df))\n",
    "print('Spanish Reviews: ', len(es_df))\n",
    "print('French Reviews: ', len(fr_df))\n",
    "print('German Reviews:  ', len(de_df))\n",
    "print('Total Reviews: ',len(all_reviews_df))"
   ]
  },
  {
   "attachments": {},
   "cell_type": "markdown",
   "metadata": {},
   "source": [
    "We need to do some preprocessing for the data. The text data must meet the following preprocessing conditions:\n",
    "\n",
    "1. All words in texts are converted to lower case.\n",
    "2. All digits and numbers are removed from the text sentences.\n",
    "3. Punctuation marks and special characters are removed.\n",
    "4. All sentences are concatenated with space in between.\n",
    "5. Series of contiguous white spaces (e.g double spaces) and trailing spaces are replaced with a single space.\n",
    "\n",
    "By cleaning our raw text data this way, we will be able to use sklearn's CountVectorizer() to create our bags of words model (see section 3 Feature Extraction / Engineering and Feature learning)."
   ]
  },
  {
   "cell_type": "code",
   "execution_count": 5,
   "metadata": {},
   "outputs": [
    {
     "data": {
      "text/html": [
       "<div>\n",
       "<style scoped>\n",
       "    .dataframe tbody tr th:only-of-type {\n",
       "        vertical-align: middle;\n",
       "    }\n",
       "\n",
       "    .dataframe tbody tr th {\n",
       "        vertical-align: top;\n",
       "    }\n",
       "\n",
       "    .dataframe thead th {\n",
       "        text-align: right;\n",
       "    }\n",
       "</style>\n",
       "<table border=\"1\" class=\"dataframe\">\n",
       "  <thead>\n",
       "    <tr style=\"text-align: right;\">\n",
       "      <th></th>\n",
       "      <th>review_id</th>\n",
       "      <th>product_id</th>\n",
       "      <th>reviewer_id</th>\n",
       "      <th>stars</th>\n",
       "      <th>review_body</th>\n",
       "      <th>review_title</th>\n",
       "      <th>language</th>\n",
       "      <th>product_category</th>\n",
       "    </tr>\n",
       "  </thead>\n",
       "  <tbody>\n",
       "    <tr>\n",
       "      <th>82839</th>\n",
       "      <td>en_0830189</td>\n",
       "      <td>product_en_0217185</td>\n",
       "      <td>reviewer_en_0640157</td>\n",
       "      <td>3</td>\n",
       "      <td>Received this item as promised, was disappoint...</td>\n",
       "      <td>not very thick rather thin material</td>\n",
       "      <td>en</td>\n",
       "      <td>sports</td>\n",
       "    </tr>\n",
       "    <tr>\n",
       "      <th>55327</th>\n",
       "      <td>en_0390897</td>\n",
       "      <td>product_en_0419361</td>\n",
       "      <td>reviewer_en_0088613</td>\n",
       "      <td>2</td>\n",
       "      <td>The size is not accurate</td>\n",
       "      <td>don t choose size according to age</td>\n",
       "      <td>en</td>\n",
       "      <td>apparel</td>\n",
       "    </tr>\n",
       "    <tr>\n",
       "      <th>168747</th>\n",
       "      <td>en_0771293</td>\n",
       "      <td>product_en_0601512</td>\n",
       "      <td>reviewer_en_0600673</td>\n",
       "      <td>5</td>\n",
       "      <td>First book I read beginning to end in ages. Wo...</td>\n",
       "      <td>great book</td>\n",
       "      <td>en</td>\n",
       "      <td>digital_ebook_purchase</td>\n",
       "    </tr>\n",
       "    <tr>\n",
       "      <th>43056</th>\n",
       "      <td>en_0268049</td>\n",
       "      <td>product_en_0972973</td>\n",
       "      <td>reviewer_en_0182857</td>\n",
       "      <td>2</td>\n",
       "      <td>Not real happy with it. It's to tight on the g...</td>\n",
       "      <td>to tight</td>\n",
       "      <td>en</td>\n",
       "      <td>sports</td>\n",
       "    </tr>\n",
       "    <tr>\n",
       "      <th>145893</th>\n",
       "      <td>en_0583780</td>\n",
       "      <td>product_en_0968769</td>\n",
       "      <td>reviewer_en_0127544</td>\n",
       "      <td>4</td>\n",
       "      <td>Great for dissolving protein powder into morni...</td>\n",
       "      <td>great for dissolving protein powder into morni...</td>\n",
       "      <td>en</td>\n",
       "      <td>kitchen</td>\n",
       "    </tr>\n",
       "    <tr>\n",
       "      <th>16679</th>\n",
       "      <td>en_0256457</td>\n",
       "      <td>product_en_0519112</td>\n",
       "      <td>reviewer_en_0658287</td>\n",
       "      <td>1</td>\n",
       "      <td>Very first time I used this, I accidentally kn...</td>\n",
       "      <td>disappointed</td>\n",
       "      <td>en</td>\n",
       "      <td>kitchen</td>\n",
       "    </tr>\n",
       "    <tr>\n",
       "      <th>38863</th>\n",
       "      <td>en_0172955</td>\n",
       "      <td>product_en_0111840</td>\n",
       "      <td>reviewer_en_0510887</td>\n",
       "      <td>1</td>\n",
       "      <td>This was not a good map. Nobody had a good map...</td>\n",
       "      <td>i really needed a good map in budapest</td>\n",
       "      <td>en</td>\n",
       "      <td>book</td>\n",
       "    </tr>\n",
       "    <tr>\n",
       "      <th>78580</th>\n",
       "      <td>en_0517203</td>\n",
       "      <td>product_en_0771133</td>\n",
       "      <td>reviewer_en_0240534</td>\n",
       "      <td>2</td>\n",
       "      <td>Each one worked only a couple on/offs..just ta...</td>\n",
       "      <td>waste of money</td>\n",
       "      <td>en</td>\n",
       "      <td>sports</td>\n",
       "    </tr>\n",
       "    <tr>\n",
       "      <th>6854</th>\n",
       "      <td>en_0052260</td>\n",
       "      <td>product_en_0878400</td>\n",
       "      <td>reviewer_en_0005586</td>\n",
       "      <td>1</td>\n",
       "      <td>Not blended, sprayed on like water--nearly cle...</td>\n",
       "      <td>not blended got a sunburn</td>\n",
       "      <td>en</td>\n",
       "      <td>beauty</td>\n",
       "    </tr>\n",
       "    <tr>\n",
       "      <th>157170</th>\n",
       "      <td>en_0942956</td>\n",
       "      <td>product_en_0358498</td>\n",
       "      <td>reviewer_en_0787527</td>\n",
       "      <td>4</td>\n",
       "      <td>Beautiful colors however they did not have the...</td>\n",
       "      <td>misrepresentation</td>\n",
       "      <td>en</td>\n",
       "      <td>home</td>\n",
       "    </tr>\n",
       "  </tbody>\n",
       "</table>\n",
       "</div>"
      ],
      "text/plain": [
       "         review_id          product_id          reviewer_id  stars  \\\n",
       "82839   en_0830189  product_en_0217185  reviewer_en_0640157      3   \n",
       "55327   en_0390897  product_en_0419361  reviewer_en_0088613      2   \n",
       "168747  en_0771293  product_en_0601512  reviewer_en_0600673      5   \n",
       "43056   en_0268049  product_en_0972973  reviewer_en_0182857      2   \n",
       "145893  en_0583780  product_en_0968769  reviewer_en_0127544      4   \n",
       "16679   en_0256457  product_en_0519112  reviewer_en_0658287      1   \n",
       "38863   en_0172955  product_en_0111840  reviewer_en_0510887      1   \n",
       "78580   en_0517203  product_en_0771133  reviewer_en_0240534      2   \n",
       "6854    en_0052260  product_en_0878400  reviewer_en_0005586      1   \n",
       "157170  en_0942956  product_en_0358498  reviewer_en_0787527      4   \n",
       "\n",
       "                                              review_body  \\\n",
       "82839   Received this item as promised, was disappoint...   \n",
       "55327                            The size is not accurate   \n",
       "168747  First book I read beginning to end in ages. Wo...   \n",
       "43056   Not real happy with it. It's to tight on the g...   \n",
       "145893  Great for dissolving protein powder into morni...   \n",
       "16679   Very first time I used this, I accidentally kn...   \n",
       "38863   This was not a good map. Nobody had a good map...   \n",
       "78580   Each one worked only a couple on/offs..just ta...   \n",
       "6854    Not blended, sprayed on like water--nearly cle...   \n",
       "157170  Beautiful colors however they did not have the...   \n",
       "\n",
       "                                             review_title language  \\\n",
       "82839                 not very thick rather thin material       en   \n",
       "55327                  don t choose size according to age       en   \n",
       "168747                                         great book       en   \n",
       "43056                                            to tight       en   \n",
       "145893  great for dissolving protein powder into morni...       en   \n",
       "16679                                        disappointed       en   \n",
       "38863              i really needed a good map in budapest       en   \n",
       "78580                                      waste of money       en   \n",
       "6854                           not blended got a sunburn        en   \n",
       "157170                                  misrepresentation       en   \n",
       "\n",
       "              product_category  \n",
       "82839                   sports  \n",
       "55327                  apparel  \n",
       "168747  digital_ebook_purchase  \n",
       "43056                   sports  \n",
       "145893                 kitchen  \n",
       "16679                  kitchen  \n",
       "38863                     book  \n",
       "78580                   sports  \n",
       "6854                    beauty  \n",
       "157170                    home  "
      ]
     },
     "execution_count": 5,
     "metadata": {},
     "output_type": "execute_result"
    }
   ],
   "source": [
    "#remove special characters from text column\n",
    "all_reviews_df['review_title'] = all_reviews_df['review_title'].str.replace('\\W', ' ', regex=True)\n",
    "# remove numbers and digits form text\n",
    "all_reviews_df['review_title'] = all_reviews_df['review_title'].str.replace('\\d', ' ', regex=True)\n",
    "# convert text to lower case\n",
    "all_reviews_df['review_title'] = all_reviews_df['review_title'].str.lower()\n",
    "# remove n spaces and convert to a single space\n",
    "all_reviews_df['review_title'] = all_reviews_df['review_title'].str.replace('\\s{2,}', ' ', regex=True)\n",
    "# remove leading and trailing spaces\n",
    "all_reviews_df['review_title'].str.strip()\n",
    "all_reviews_df.head(10)"
   ]
  },
  {
   "attachments": {},
   "cell_type": "markdown",
   "metadata": {},
   "source": [
    "We will be removing all the columns that we will not be needing for our analysis. We will be keeping our raw text data: review_title, and label: language."
   ]
  },
  {
   "cell_type": "code",
   "execution_count": 6,
   "metadata": {},
   "outputs": [
    {
     "name": "stdout",
     "output_type": "stream",
     "text": [
      "                              review_title language\n",
      "82839  not very thick rather thin material       en\n",
      "55327   don t choose size according to age       en\n",
      "(2000, 2)\n"
     ]
    }
   ],
   "source": [
    "all_reviews_df = all_reviews_df[[\"review_title\", \"language\"]]\n",
    "print(all_reviews_df.head(2))\n",
    "print(all_reviews_df.shape)"
   ]
  },
  {
   "attachments": {},
   "cell_type": "markdown",
   "metadata": {},
   "source": [
    "# **3. Feature Extraction / Feature Learning**"
   ]
  },
  {
   "attachments": {},
   "cell_type": "markdown",
   "metadata": {},
   "source": [
    "In our next step, we will be label encoding our output feature. Based on the way the dataframe is loaded. The labelencoder will encode language as: \n",
    "\n",
    "0: en, \n",
    "1: es,\n",
    "2: fr,\n",
    "3: de,\n",
    "\n",
    "By encoding our label, we will be able to perform Multinomial Naivve Bayes and K-Nearest Neighbors using sklearn library"
   ]
  },
  {
   "cell_type": "code",
   "execution_count": 7,
   "metadata": {},
   "outputs": [
    {
     "data": {
      "text/html": [
       "<div>\n",
       "<style scoped>\n",
       "    .dataframe tbody tr th:only-of-type {\n",
       "        vertical-align: middle;\n",
       "    }\n",
       "\n",
       "    .dataframe tbody tr th {\n",
       "        vertical-align: top;\n",
       "    }\n",
       "\n",
       "    .dataframe thead th {\n",
       "        text-align: right;\n",
       "    }\n",
       "</style>\n",
       "<table border=\"1\" class=\"dataframe\">\n",
       "  <thead>\n",
       "    <tr style=\"text-align: right;\">\n",
       "      <th></th>\n",
       "      <th>review_title</th>\n",
       "      <th>language</th>\n",
       "    </tr>\n",
       "  </thead>\n",
       "  <tbody>\n",
       "    <tr>\n",
       "      <th>82839</th>\n",
       "      <td>not very thick rather thin material</td>\n",
       "      <td>1</td>\n",
       "    </tr>\n",
       "    <tr>\n",
       "      <th>55327</th>\n",
       "      <td>don t choose size according to age</td>\n",
       "      <td>1</td>\n",
       "    </tr>\n",
       "    <tr>\n",
       "      <th>168747</th>\n",
       "      <td>great book</td>\n",
       "      <td>1</td>\n",
       "    </tr>\n",
       "    <tr>\n",
       "      <th>43056</th>\n",
       "      <td>to tight</td>\n",
       "      <td>1</td>\n",
       "    </tr>\n",
       "    <tr>\n",
       "      <th>145893</th>\n",
       "      <td>great for dissolving protein powder into morni...</td>\n",
       "      <td>1</td>\n",
       "    </tr>\n",
       "  </tbody>\n",
       "</table>\n",
       "</div>"
      ],
      "text/plain": [
       "                                             review_title  language\n",
       "82839                 not very thick rather thin material         1\n",
       "55327                  don t choose size according to age         1\n",
       "168747                                         great book         1\n",
       "43056                                            to tight         1\n",
       "145893  great for dissolving protein powder into morni...         1"
      ]
     },
     "execution_count": 7,
     "metadata": {},
     "output_type": "execute_result"
    }
   ],
   "source": [
    "le = preprocessing.LabelEncoder();\n",
    "all_reviews_df['language'] = le.fit_transform(all_reviews_df['language'])\n",
    "all_reviews_df.head()"
   ]
  },
  {
   "attachments": {},
   "cell_type": "markdown",
   "metadata": {},
   "source": [
    "Next, we will transform our raw text data into numerical values by using the bags of words model. By using the bag of words mode, we will be able to extract features from our raw text data. The bag of words model works by describing the occurrence of words within a document. We only keep track of word count and disregard grammar / syntax. In other words, bags of word model is a way for us to vectorize our raw text data / convert to numerical values. For example, lets say we have 3 sentences: The toy is big, The toy is small. The bags of words model would vectorize the two sentences as [The: 2, toy: 2, is: 2, big: 1 small: 1]. These values in the list represent the frequency and the keys in the list are the words fot which those frequency values correspond to. Each word is now associated with a count value.\n",
    "\n",
    "\n",
    "In our case, we can use CountVectorizer() to help us create count the occurences and create a matrix of those occurence of each word to create our bag of words model. CounterVectorizer() would store the freuencies of each words in a simlar way above in a matrix. This matrix would be our input feature that we would use for the models."
   ]
  },
  {
   "cell_type": "code",
   "execution_count": 8,
   "metadata": {},
   "outputs": [
    {
     "name": "stdout",
     "output_type": "stream",
     "text": [
      "(2000, 2793)\n"
     ]
    }
   ],
   "source": [
    "X = all_reviews_df['review_title']\n",
    "Y = all_reviews_df['language']\n",
    "\n",
    "CV = CountVectorizer()\n",
    "X = CV.fit_transform(X).toarray()\n",
    "\n",
    "print(X.shape)"
   ]
  },
  {
   "attachments": {},
   "cell_type": "markdown",
   "metadata": {},
   "source": [
    "# 4. **Processing**"
   ]
  },
  {
   "attachments": {},
   "cell_type": "markdown",
   "metadata": {},
   "source": [
    "We will now begin processing the data. We will perform Multinomial Naive Bayes and K-Nearest Neighbors classifiers. "
   ]
  },
  {
   "attachments": {},
   "cell_type": "markdown",
   "metadata": {},
   "source": [
    "We will start off by using Multinomial Naive Bayes for multiclass classification. Naive Bayes is based off of Baye's Theorem and assumes that the features of the dataset are independent.\n",
    "\n",
    "$$\n",
    "P(A |B) = \\frac{P(B|A) P(A)}{P(B)}\n",
    "$$\n",
    "\n",
    "where P(A) is the probabiltiy of A, P(B|A) is the probabiltiy of B given A occurs, P(A|B) is the probabilty A given B occurs, and P(B) is the probability of B. The posterior probability can be interpreted as what is the revised probabilty after receiving new information. The Naive Bayes model uses the posterior probability to classify new samples. Multinomial Naive Bayes classifer is a specifc instance of the Naive Bayes Classififer where each feature uses a multinomial distribution. One way to think about Multinomial Naive Bayes Classifier is that it calculates the likelihood to be a specfic count / frequency (of a word in our case).\n",
    "\n",
    "We will use the MultinomialNB() to help us implement this. We first instantiate the MultinomialNB object, and then fit the data using .fit() with our input feature and output feature as paramters."
   ]
  },
  {
   "cell_type": "code",
   "execution_count": 9,
   "metadata": {},
   "outputs": [
    {
     "data": {
      "text/plain": [
       "MultinomialNB()"
      ]
     },
     "execution_count": 9,
     "metadata": {},
     "output_type": "execute_result"
    }
   ],
   "source": [
    "from sklearn.naive_bayes import MultinomialNB\n",
    "from sklearn.neighbors import KNeighborsClassifier\n",
    "from sklearn.model_selection import cross_validate\n",
    "\n",
    "model1 = MultinomialNB()\n",
    "model1.fit(X, Y)"
   ]
  },
  {
   "attachments": {},
   "cell_type": "markdown",
   "metadata": {},
   "source": [
    "Next, we will use K Nearest Neighbors to create our second model. The K Nearest Neigghbor Algorithm works by assuming that similar features are always close together (small proximity to each other | K nearest neighbors isn't restricted to Eclidean distances). For choosing our parameter k, we will run KNN multiple times with different k values to determine the best k to use for the model. Ideally, we would like our predictions to be stable and by running the KNN algorithm for different k values we would be able to determine an optimal k value fot the model.\n",
    "\n",
    "We will be using KNeighborsClassifier() from sklearn to help us implement our model. First, we must choose k. With the help of cross_validate() from sklearn, we can determine our optimal k value by finding the input that maximizes mean_validation_scores."
   ]
  },
  {
   "cell_type": "code",
   "execution_count": 10,
   "metadata": {},
   "outputs": [
    {
     "data": {
      "image/png": "[encoded data removed]",
      "text/plain": [
       "<Figure size 432x288 with 1 Axes>"
      ]
     },
     "metadata": {
      "needs_background": "light"
     },
     "output_type": "display_data"
    },
    {
     "data": {
      "text/plain": [
       "KNeighborsClassifier(n_neighbors=11)"
      ]
     },
     "execution_count": 10,
     "metadata": {},
     "output_type": "execute_result"
    }
   ],
   "source": [
    "k_values = list(range(1, 21)) \n",
    "cross_validation_scores_model = [cross_validate(KNeighborsClassifier(n_neighbors = k), X, Y) for k in k_values] #compute cross validation scores for each alpha for Ridge Regression\n",
    "mean_validation_scores_model = [data[\"test_score\"].mean() for data in cross_validation_scores_model] #compute mean of cross validation scores\n",
    "std_validation_scores_model = [data[\"test_score\"].std() for data in cross_validation_scores_model] #compute standard deviation of cross validation scores\n",
    "best_k = k_values[np.argmax(mean_validation_scores_model)] #determine which alpha gives us best cross validation score\n",
    "\n",
    "k_scores = []\n",
    "# use different k in models, then return the average accuracy based on the cross validation\n",
    "for k in k_values:\n",
    "    knn = KNeighborsClassifier(n_neighbors=k)\n",
    "    scores = cross_val_score(knn, X, Y, cv=5, scoring='accuracy')\n",
    "    k_scores.append(scores.mean())\n",
    "# plotting\n",
    "plt.plot(k_values, k_scores)\n",
    "plt.xlabel('Value of k for KNN')\n",
    "plt.ylabel('Cross-Validation Accuracy')\n",
    "plt.show()\n",
    "\n",
    "# use best k value for KNN:\n",
    "model3 = KNeighborsClassifier(n_neighbors = best_k)\n",
    "model3.fit(X, Y)"
   ]
  },
  {
   "attachments": {},
   "cell_type": "markdown",
   "metadata": {},
   "source": [
    "The plot above shows the cross validation accuracy with respect to the k values. We can use the plot above to help us determine the optimal k vlaue for KNN classifcation (peak)."
   ]
  },
  {
   "attachments": {},
   "cell_type": "markdown",
   "metadata": {},
   "source": [
    "# **5. Comparative Analysis**"
   ]
  },
  {
   "attachments": {},
   "cell_type": "markdown",
   "metadata": {},
   "source": [
    "In order to test our Multinomial naive bayes and K-Nearest Neighbor classifer, we will use our test data. Our test data is also stored in json format, so we will have to parse the json data into pandas dataframe just like how we parsed our training data."
   ]
  },
  {
   "cell_type": "code",
   "execution_count": 11,
   "metadata": {},
   "outputs": [
    {
     "name": "stdout",
     "output_type": "stream",
     "text": [
      "English Reviews:  5000\n",
      "Spanish Reviews:  5000\n",
      "French Reviews:  5000\n",
      "German Reviews:   5000\n",
      "Total Reviews:  20000\n"
     ]
    }
   ],
   "source": [
    "en_df_test = pd.read_json('dataset_en_test.json', lines=True, orient='columns')\n",
    "es_df_test = pd.read_json('dataset_es_test.json', lines=True, orient='columns')\n",
    "fr_df_test = pd.read_json('dataset_fr_test.json', lines=True, orient='columns')\n",
    "de_df_test = pd.read_json('dataset_de_test.json', lines=True, orient='columns')\n",
    "lang_frames_test = [en_df_test, es_df_test, fr_df_test, de_df_test]\n",
    "all_reviews_df_test = pd.concat(lang_frames_test)\n",
    "print('English Reviews: ', len(en_df_test))\n",
    "print('Spanish Reviews: ', len(es_df_test))\n",
    "print('French Reviews: ', len(fr_df_test))\n",
    "print('German Reviews:  ', len(de_df_test))\n",
    "print('Total Reviews: ',len(all_reviews_df_test))"
   ]
  },
  {
   "attachments": {},
   "cell_type": "markdown",
   "metadata": {},
   "source": [
    "Next we will clean the test data and use the cleaned data into our models. We will compare the models by comparing the two confusion matrices."
   ]
  },
  {
   "cell_type": "code",
   "execution_count": 12,
   "metadata": {},
   "outputs": [
    {
     "name": "stdout",
     "output_type": "stream",
     "text": [
      "[[4857   58   20   65]\n",
      " [ 341 4602   33   24]\n",
      " [ 804   26 3988  182]\n",
      " [ 720   69   43 4168]]\n",
      "[[4962    8   26    4]\n",
      " [1716 2960  324    0]\n",
      " [1539    9 3204  248]\n",
      " [1923    8  590 2479]]\n"
     ]
    }
   ],
   "source": [
    "#remove special characters from text column\n",
    "all_reviews_df_test['review_title'] = all_reviews_df_test['review_title'].str.replace('\\W', ' ', regex=True)\n",
    "# remove numbers and digits form text\n",
    "all_reviews_df_test['review_title'] = all_reviews_df_test['review_title'].str.replace('\\d', ' ', regex=True)\n",
    "# convert text to lower case\n",
    "all_reviews_df_test['review_title'] = all_reviews_df_test['review_title'].str.lower()\n",
    "# remove n spaces and convert to a single space\n",
    "all_reviews_df_test['review_title'] = all_reviews_df_test['review_title'].str.replace('\\s{2,}', ' ', regex=True)\n",
    "# remove leading and trailing spaces\n",
    "all_reviews_df_test['review_title'].str.strip()\n",
    "\n",
    "all_reviews_df_test = all_reviews_df_test[[\"review_body\", \"review_title\", \"language\"]]\n",
    "\n",
    "all_reviews_df_test['language'] = le.transform(all_reviews_df_test['language'])\n",
    "\n",
    "\n",
    "X = all_reviews_df_test['review_title']\n",
    "Y = all_reviews_df_test['language']\n",
    "X = CV.transform(X).toarray()\n",
    "\n",
    "Y_pred1 = model1.predict(X)\n",
    "conf_mat1 = confusion_matrix(Y, Y_pred1, labels = model1.classes_)\n",
    "\n",
    "Y_pred3 = model3.predict(X)\n",
    "conf_mat3 = confusion_matrix(Y, Y_pred3, labels = model3.classes_)\n",
    "\n",
    "print(conf_mat1)\n",
    "print(conf_mat3)\n",
    "\n",
    "from sklearn.metrics import plot_confusion_matrix\n",
    "\n"
   ]
  },
  {
   "attachments": {},
   "cell_type": "markdown",
   "metadata": {},
   "source": [
    "To plot our cofusion matrices, we can use ConfusionMatrixDisplay() from sklearn and passing in the confusing_matrix array and labels as parameters."
   ]
  },
  {
   "cell_type": "code",
   "execution_count": 13,
   "metadata": {},
   "outputs": [
    {
     "data": {
      "image/png": "[encoded data removed]",
      "text/plain": [
       "<Figure size 432x288 with 2 Axes>"
      ]
     },
     "metadata": {
      "needs_background": "light"
     },
     "output_type": "display_data"
    },
    {
     "data": {
      "image/png": "[encoded data removed]",
      "text/plain": [
       "<Figure size 432x288 with 2 Axes>"
      ]
     },
     "metadata": {
      "needs_background": "light"
     },
     "output_type": "display_data"
    }
   ],
   "source": [
    "from sklearn.metrics import ConfusionMatrixDisplay\n",
    "import matplotlib.pyplot as plt\n",
    "\n",
    "disp1 = ConfusionMatrixDisplay(confusion_matrix=conf_mat1, display_labels= ['en', 'es', 'fr', 'de'])\n",
    "disp1.plot()\n",
    "plt.show()\n",
    "disp2 = ConfusionMatrixDisplay(confusion_matrix=conf_mat3, display_labels= ['en', 'es', 'fr', 'de'])\n",
    "disp2.plot()\n",
    "plt.show()"
   ]
  },
  {
   "attachments": {},
   "cell_type": "markdown",
   "metadata": {},
   "source": [
    "After testing both of our classifer with 5000 reviews for each langauge, we can create confusion matrices for both classifers for comparision. Comparative confusion matrices are also shown above for the bag of words approach. For readability, the matrices are truncated to label encoding: English: 0, Spanish: 1, French: 2, German: 3. We can gather numerous statistics and performance metrics from confusion matrices. Upon first glance of both confusion matrices, we see that Multinomial Naive Bayes perform poorly on trying to clasify Japanese or Chinese. We also see that K-nearest Neighbors is able to classify Chinese text correctly more than Multinomial Naive Bayes model.\n",
    "\n",
    "With these confusion matrices, we can extract the performance metric, such as precision, recall, accuracy, etc. We see that the True positives for English, Spanish, French, and German is higher for Multinomial Naive Bayes model compared to K Nearest Neighbor Model.\n",
    "\n",
    "As for deciding which model to put into production, the Multinomial Naive Bayes would be the best to put into production. Comparing the two confusion matrices and performance metrics, it seems that Multinomial Naive Bayes Classifier is better at classifying more langauges than the K Nearest Neighbor model. If possible, the multinomial Naive Bayes model should be used in production for English, Spanish, French, and German language.\n",
    "\n",
    "Note: If we train / run this notebook again, we may get slightly different results because of the fact that we are sampling 1000 reviews for each langauge."
   ]
  },
  {
   "cell_type": "markdown",
   "metadata": {},
   "source": [
    "# **6. Discussion of Ethical Issues**"
   ]
  },
  {
   "attachments": {},
   "cell_type": "markdown",
   "metadata": {},
   "source": [
    "Language is a complex system of communication that humans use to express themselves. It is through language that one can communicate with others and show his or her ideas. Every country has their own primary language. The primary language for each country is unique to its geographic location, people, and culture. Every language has its unique rules and syntax. In order to communicate or understand a language, one must understand the structure of that language and learn to communicate ideas. On one hand, it would be benefical to develop such a machine learning model that can identify language so that we can break the language barriers. We must keep in mind that such machine learning model can also bring about ethical issues. There are two main ethical issues that come with developing a machine learning model for identify language: (1) Bias, and (2) Privacy.\n",
    "\n",
    "Although a machine learning model that can detect language of text could be beneficial for companies understanding its customers, it can also bring about negative effects. Since language can be unique to culture or people in specific regions of the world, language can almost always be used to identify one's nationaility or race. Just by connecting language and nationality or race, there could some bias made towards such person. The machine learning model could inadvertently discriminate against marginalized groups. The case that the machine learning model can cause discrimination is not limited to just companies. \n",
    "\n",
    "\n",
    "Machine learning models to identify language of text could cause privacy concerns. Companies can use text provided by users and track them based on language of text provided. As mentioned before, since language can partially identify race or nationality of a person, the classifcation of race by language of text can also lead to risk of privacy. For example, there could be ads tracking users based on language of text users provide. The privacy issue is not limited to companies, governments around the world could also use the model. Not all government are democratic, some are ruled by single party. If such government could use a machine learning model to classify race based on language of text by a person (texts, messages, etc), vulnerable individuals and groups of people could suffer disproportionately."
   ]
  },
  {
   "cell_type": "markdown",
   "metadata": {},
   "source": [
    "# **7. Bibliography**"
   ]
  },
  {
   "attachments": {},
   "cell_type": "markdown",
   "metadata": {},
   "source": [
    "https://docs.opendata.aws/amazon-reviews-ml/readme.html#bibliography\n",
    "\n",
    "Bojanowski, Piotr, et al. “Enriching word vectors with subword information.” Transactions of the Association for Computational Linguistics 5 (2017): 135-146.\n",
    "\n",
    "Phillip Keung, Yichao Lu, György Szarvas and Noah A. Smith. “The Multilingual Amazon Reviews Corpus.” In Proceedings of the 2020 Conference on Empirical Methods in Natural Language Processing, 2020.\n",
    "\n",
    "@inproceedings{marc_reviews,\n",
    "    title={The Multilingual Amazon Reviews Corpus},\n",
    "    author={Keung, Phillip and Lu, Yichao and Szarvas, György and Smith, Noah A.},\n",
    "    booktitle={Proceedings of the 2020 Conference on Empirical Methods in Natural Language Processing},\n",
    "    year={2020}\n",
    "}\n",
    "\n",
    "Zhang, Y., Jin, R. & Zhou, ZH. Understanding bag-of-words model: a statistical framework. Int. J. Mach. Learn. & Cyber. 1, 43–52 (2010). https://doi.org/10.1007/s13042-010-0001-0\n"
   ]
  }
 ],
 "metadata": {
  "kernelspec": {
   "display_name": "base",
   "language": "python",
   "name": "python3"
  },
  "language_info": {
   "codemirror_mode": {
    "name": "ipython",
    "version": 3
   },
   "file_extension": ".py",
   "mimetype": "text/x-python",
   "name": "python",
   "nbconvert_exporter": "python",
   "pygments_lexer": "ipython3",
   "version": "3.9.12"
  },
  "orig_nbformat": 4,
  "vscode": {
   "interpreter": {
    "hash": "3067ead486e059ec00ffe7555bdb889e6e264a24dc711bf108106cc7baee8d5d"
   }
  }
 },
 "nbformat": 4,
 "nbformat_minor": 2
}
